{
  "nbformat": 4,
  "nbformat_minor": 0,
  "metadata": {
    "colab": {
      "name": "scan mail classification.ipynb",
      "provenance": [],
      "collapsed_sections": [],
      "authorship_tag": "ABX9TyMisyu+ZPh12NfrjJiKxdrr",
      "include_colab_link": true
    },
    "kernelspec": {
      "name": "python3",
      "display_name": "Python 3"
    },
    "language_info": {
      "name": "python"
    }
  },
  "cells": [
    {
      "cell_type": "markdown",
      "metadata": {
        "id": "view-in-github",
        "colab_type": "text"
      },
      "source": [
        "<a href=\"https://colab.research.google.com/github/Aviral-3/Spam-email-Classification/blob/main/scan_mail_classification.ipynb\" target=\"_parent\"><img src=\"https://colab.research.google.com/assets/colab-badge.svg\" alt=\"Open In Colab\"/></a>"
      ]
    },
    {
      "cell_type": "code",
      "source": [
        "### Understanding data set\n",
        "import pandas as pd\n",
        "import numpy as np\n",
        "import spacy"
      ],
      "metadata": {
        "id": "lIy_bwEC8IXI"
      },
      "execution_count": 1,
      "outputs": []
    },
    {
      "cell_type": "code",
      "source": [
        "nlp = spacy.load('en_core_web_sm')"
      ],
      "metadata": {
        "id": "SJzE451X8JYN"
      },
      "execution_count": 2,
      "outputs": []
    },
    {
      "cell_type": "markdown",
      "source": [
        ""
      ],
      "metadata": {
        "id": "4o5mwxBd8H8z"
      }
    },
    {
      "cell_type": "code",
      "source": [
        "data = pd.read_csv('https://techlearn-cdn.s3.amazonaws.com/project_GmailSpamClassification/spam.csv',encoding='cp1252')\n"
      ],
      "metadata": {
        "id": "_JoMYdVH81mW"
      },
      "execution_count": 3,
      "outputs": []
    },
    {
      "cell_type": "code",
      "source": [
        "\n",
        "data.head()\n",
        "\n",
        "\n",
        "data = data[['v1','v2']]\n",
        "\n",
        "\n",
        "data['v1'] = data['v1'].apply(lambda x:0 if x=='ham' else 1)\n",
        "\n",
        "\n",
        "data"
      ],
      "metadata": {
        "id": "tdEpM8uA85s9"
      },
      "execution_count": null,
      "outputs": []
    },
    {
      "cell_type": "code",
      "source": [
        "### Demo 2 - Text Pre-Processing\n",
        "def process(x):\n",
        "    temp = []\n",
        "    document = nlp(x.lower())\n",
        "    print(document)\n",
        "    for i in document:\n",
        "        if i.is_stop!=True and i.is_punct!= True:\n",
        "            print(i)\n",
        "            temp.append((i.lemma_)\n",
        "            print(temp)\n",
        "        else:\n",
        "            pass\n",
        "        \n",
        "    return (' '.join(temp))\n",
        "##"
      ],
      "metadata": {
        "id": "kFa4RJGx89g0"
      },
      "execution_count": 5,
      "outputs": []
    },
    {
      "cell_type": "code",
      "source": [
        "data['v2'] = data['v2'].apply(lambda x: process(x))"
      ],
      "metadata": {
        "id": "f-YfXTXr9A-6"
      },
      "execution_count": null,
      "outputs": []
    },
    {
      "cell_type": "code",
      "source": [
        "data.head()\n",
        "\n",
        "\n",
        "from sklearn.feature_extraction.text import TfidfVectorizer\n",
        "\n",
        "\n",
        "vectorizer = TfidfVectorizer(analyzer='word',stop_words='english')\n",
        "\n",
        "\n",
        "text_vector = vectorizer.fit_transform(data['v2'].values.tolist())\n",
        "\n",
        "\n",
        "print(text_vector)"
      ],
      "metadata": {
        "id": "rbEcWwXN9DtZ"
      },
      "execution_count": null,
      "outputs": []
    },
    {
      "cell_type": "code",
      "source": [
        "######Demo 3 - Splitting Data set\n",
        "\n",
        "\n",
        "from sklearn.model_selection import train_test_split\n",
        "\n",
        "\n",
        "x_train, x_test, y_train, y_test = train_test_split(text_vector.toarray(),data['v1'],test_size=0.2,random_state=20)\n",
        "\n",
        "\n",
        "len(x_test)"
      ],
      "metadata": {
        "id": "HcSCOGPK9HV9"
      },
      "execution_count": null,
      "outputs": []
    },
    {
      "cell_type": "code",
      "source": [
        "####Demo 4 - Model Building\n",
        "\n",
        "from sklearn.naive_bayes import BernoulliNB\n",
        "\n",
        "\n",
        "modelB = BernoulliNB()\n",
        "modelB.fit(x_train,y_train)\n",
        "print(modelB.score(x_train,y_train))\n",
        "\n",
        "\n",
        "y_predictedB = modelB.predict(x_test)\n",
        "\n",
        "\n",
        "from sklearn.metrics import accuracy_score\n",
        "\n",
        "print(accuracy_score(y_test,y_predictedB))"
      ],
      "metadata": {
        "id": "mkr0UDdg9LLh"
      },
      "execution_count": null,
      "outputs": []
    }
  ]
}